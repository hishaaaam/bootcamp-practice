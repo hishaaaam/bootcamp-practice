{
 "cells": [
  {
   "cell_type": "code",
   "execution_count": 2,
   "metadata": {},
   "outputs": [
    {
     "name": "stdout",
     "output_type": "stream",
     "text": [
      "Caught a NameError: name 'hisham' is not defined\n"
     ]
    }
   ],
   "source": [
    "# NameError\n",
    "try:\n",
    "    print(hisham)\n",
    "except NameError as ne:\n",
    "    print(f\"Caught a NameError: {ne}\")"
   ]
  },
  {
   "cell_type": "code",
   "execution_count": 4,
   "metadata": {},
   "outputs": [
    {
     "name": "stdout",
     "output_type": "stream",
     "text": [
      "Caught a TypeError: can only concatenate str (not \"int\") to str\n"
     ]
    }
   ],
   "source": [
    "# TypeError\n",
    "try:\n",
    "    result = '7' + 3  # This will raise a TypeError\n",
    "except TypeError as te:\n",
    "    print(f\"Caught a TypeError: {te}\")"
   ]
  },
  {
   "cell_type": "code",
   "execution_count": 5,
   "metadata": {},
   "outputs": [
    {
     "name": "stdout",
     "output_type": "stream",
     "text": [
      "Caught a ValueError: invalid literal for int() with base 10: 'not_a_number'\n"
     ]
    }
   ],
   "source": [
    "# ValueError\n",
    "try:\n",
    "    number = int(\"not_a_number\")  # This will raise a ValueError\n",
    "except ValueError as ve:\n",
    "    print(f\"Caught a ValueError: {ve}\")"
   ]
  },
  {
   "cell_type": "code",
   "execution_count": 6,
   "metadata": {},
   "outputs": [
    {
     "name": "stdout",
     "output_type": "stream",
     "text": [
      "Caught a ZeroDivisionError: division by zero\n"
     ]
    }
   ],
   "source": [
    "# ZeroDivisionError\n",
    "try:\n",
    "    result = 7 / 0  # This will raise a ZeroDivisionError\n",
    "except ZeroDivisionError as zde:\n",
    "    print(f\"Caught a ZeroDivisionError: {zde}\")"
   ]
  },
  {
   "cell_type": "code",
   "execution_count": null,
   "metadata": {},
   "outputs": [],
   "source": [
    "# KeyError\n",
    "try:\n",
    "    my_dict = {'a': 1}\n",
    "    print(my_dict['b'])  # This will raise a KeyError\n",
    "except KeyError as ke:\n",
    "    print(f\"Caught a KeyError: {ke}\")"
   ]
  },
  {
   "cell_type": "code",
   "execution_count": null,
   "metadata": {},
   "outputs": [],
   "source": [
    "# IndexError\n",
    "try:\n",
    "    my_list = [4, 5, 6]\n",
    "    print(my_list[5])  # This will raise an IndexError\n",
    "except IndexError as ie:\n",
    "    print(f\"Caught an IndexError: {ie}\")"
   ]
  }
 ],
 "metadata": {
  "kernelspec": {
   "display_name": "Python 3",
   "language": "python",
   "name": "python3"
  },
  "language_info": {
   "codemirror_mode": {
    "name": "ipython",
    "version": 3
   },
   "file_extension": ".py",
   "mimetype": "text/x-python",
   "name": "python",
   "nbconvert_exporter": "python",
   "pygments_lexer": "ipython3",
   "version": "3.11.9"
  }
 },
 "nbformat": 4,
 "nbformat_minor": 2
}
