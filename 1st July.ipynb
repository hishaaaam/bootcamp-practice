{
 "cells": [
  {
   "cell_type": "code",
   "execution_count": null,
   "metadata": {},
   "outputs": [],
   "source": [
    "import matplotlib.pyplot as plt\n",
    "\n",
    "x = [1, 2, 3, 4, 5]\n",
    "y = [2, 3, 5, 7, 11]\n",
    "\n",
    "plt.plot(x, y)\n",
    "plt.title('Basic Line Plot')\n",
    "plt.xlabel('X-axis')\n",
    "plt.ylabel('Y-axis')\n",
    "\n",
    "plt.show()\n",
    "\n",
    "x = [1, 2, 3, 4, 5]\n",
    "y = [1, 4, 9, 16, 25]\n",
    "\n",
    "plt.plot(x, y, label='Quadratic')\n",
    "plt.title('Line Plot with Labels and Title')\n",
    "plt.xlabel('X-axis')\n",
    "plt.ylabel('Y-axis')\n",
    "plt.legend()\n",
    "\n",
    "plt.show()\n",
    "\n",
    "x = [1, 2, 3, 4, 5]\n",
    "y1 = [2, 3, 5, 7, 11]\n",
    "y2 = [1, 4, 9, 16, 25]\n",
    "\n",
    "plt.plot(x, y1, label='Prime Numbers')\n",
    "plt.plot(x, y2, label='Square Numbers')\n",
    "plt.title('Multiple Line Plot')\n",
    "plt.xlabel('X-axis')\n",
    "plt.ylabel('Y-axis')\n",
    "plt.legend()\n",
    "\n",
    "plt.show()\n"
   ]
  }
 ],
 "metadata": {
  "language_info": {
   "name": "python"
  }
 },
 "nbformat": 4,
 "nbformat_minor": 2
}
