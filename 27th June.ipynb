
{
 "cells": [
  {
   "cell_type": "code",
   "execution_count": null,
   "metadata": {},
   "outputs": [],
   "source": [
    "import pandas as pd\n",
    "\n",
    "data = [1, 2, 3, 4, 5]\n",
    "series = pd.Series(data)\n",
    "print(\"Pandas Series from a list:\")\n",
    "print(series)\n",
    "\n",
    "data = [1, 2, 3, 4, 5]\n",
    "index = ['a', 'b', 'c', 'd', 'e']\n",
    "series_with_index = pd.Series(data, index=index)\n",
    "print(\"\\nPandas Series with custom index:\")\n",
    "print(series_with_index)\n",
    "\n",
    "data = {'a': 1, 'b': 2, 'c': 3, 'd': 4, 'e': 5}\n",
    "series_from_dict = pd.Series(data)\n",
    "print(\"\\nPandas Series from a dictionary:\")\n",
    "print(series_from_dict)\n",
    "\n",
    "print(\"\\nAccessing elements in a Series:\")\n",
    "print(\"Element at index 'c':\", series_with_index['c'])\n",
    "print(\"First element:\", series_with_index[0])\n",
    "\n",
    "print(\"\\nPerforming operations on a Series:\")\n",
    "print(\"Series + 10:\")\n",
    "print(series + 10)\n",
    "print(\"Series > 3:\")\n",
    "print(series > 3)"
   ]
  }
 ],
 "metadata": {
  "language_info": {
   "name": "python"
  }
 },
 "nbformat": 4,
 "nbformat_minor": 2
}
